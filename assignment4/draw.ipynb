{
 "cells": [
  {
   "cell_type": "code",
   "execution_count": null,
   "metadata": {},
   "outputs": [],
   "source": [
    "import matplotlib.pyplot as plt\n",
    "import pandas as pd\n",
    "import re\n",
    "# Data provided by the user\n",
    "file_path = './case2.log'\n",
    "with open(file_path, 'r') as file:\n",
    "    log_content = file.read()\n",
    "\n",
    "\n",
    "def extract_data_to_df(log_content):\n",
    "    pattern = (\n",
    "        r\"L1 Cache Size: (\\d+ KB), L2 Cache Size: (\\d+ KB), Line Size: (\\d+ Bytes)\\n\"\n",
    "        r\"L1 Hits: (\\d+), L1 Misses: (\\d+), L2 Hits: (\\d+), L2 Misses: (\\d+)\\n\"\n",
    "        r\"L1 Hit Rate: ([\\d\\.]+), L2 Hit Rate: ([\\d\\.]+)\\n\"\n",
    "        r\"total_time: (\\d+) cycles\"\n",
    "    )\n",
    "    extracted_rows = re.findall(pattern, log_content)\n",
    "    \n",
    "    columns = ['L1 Cache Size', 'L2 Cache Size', 'Line Size', 'L1 Hits', 'L1 Misses', \n",
    "               'L2 Hits', 'L2 Misses', 'L1 Hit Rate', 'L2 Hit Rate', 'Total Time']\n",
    "    df = pd.DataFrame(extracted_rows, columns=columns)\n",
    "\n",
    "    # Converting numeric columns from string to appropriate types\n",
    "    numeric_cols = ['L1 Hits', 'L1 Misses', 'L2 Hits', 'L2 Misses', 'L1 Hit Rate', 'L2 Hit Rate', 'Total Time']\n",
    "    df[numeric_cols] = df[numeric_cols].apply(pd.to_numeric)\n",
    "\n",
    "    return df\n",
    "\n",
    "# Path to the log file\n",
    "file_path = 'case2.log'\n",
    "\n",
    "# Read and process the log file\n",
    "df = extract_data_to_df(log_content)\n",
    "print(df)\n"
   ]
  }
 ],
 "metadata": {
  "language_info": {
   "name": "python"
  }
 },
 "nbformat": 4,
 "nbformat_minor": 2
}
